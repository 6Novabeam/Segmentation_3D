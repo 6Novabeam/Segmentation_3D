{
  "cells": [
    {
      "cell_type": "markdown",
      "metadata": {
        "id": "view-in-github",
        "colab_type": "text"
      },
      "source": [
        "<a href=\"https://colab.research.google.com/github/6Novabeam/Segmentation_3D/blob/main/Open3D/affichage_open3d_jupyter_notebook.ipynb\" target=\"_parent\"><img src=\"https://colab.research.google.com/assets/colab-badge.svg\" alt=\"Open In Colab\"/></a>"
      ]
    },
    {
      "cell_type": "code",
      "execution_count": null,
      "metadata": {
        "id": "Lss5tKwlZcFm"
      },
      "outputs": [],
      "source": [
        "!pip install -U -q open3d"
      ],
      "id": "Lss5tKwlZcFm"
    },
    {
      "cell_type": "code",
      "execution_count": null,
      "metadata": {
        "colab": {
          "base_uri": "https://localhost:8080/"
        },
        "id": "keFv8QKAcOhg",
        "outputId": "cf990634-ee81-40a8-8d11-529fbead9645"
      },
      "outputs": [
        {
          "name": "stdout",
          "output_type": "stream",
          "text": [
            "0.15.2\n"
          ]
        }
      ],
      "source": [
        "!python -c \"import open3d as o3d; print(o3d.__version__)\""
      ],
      "id": "keFv8QKAcOhg"
    },
    {
      "cell_type": "code",
      "execution_count": null,
      "metadata": {
        "colab": {
          "base_uri": "https://localhost:8080/"
        },
        "id": "9f2bc0e9",
        "outputId": "d302c6ae-125f-4cde-fc5f-a71efda69fd1"
      },
      "outputs": [
        {
          "name": "stdout",
          "output_type": "stream",
          "text": [
            "[Open3D INFO] Resetting default logger to print to terminal.\n"
          ]
        }
      ],
      "source": [
        "import open3d as o3d\n",
        "from open3d.web_visualizer import draw\n",
        "import numpy as np\n",
        "import matplotlib.pyplot as plt"
      ],
      "id": "9f2bc0e9"
    },
    {
      "cell_type": "code",
      "execution_count": null,
      "metadata": {
        "colab": {
          "base_uri": "https://localhost:8080/"
        },
        "id": "PMIfQZFub6T9",
        "outputId": "45fc000b-c381-4a06-e4fa-393bdc5e3c55"
      },
      "outputs": [
        {
          "name": "stdout",
          "output_type": "stream",
          "text": [
            "Drive already mounted at /content/drive; to attempt to forcibly remount, call drive.mount(\"/content/drive\", force_remount=True).\n"
          ]
        }
      ],
      "source": [
        "from google.colab import drive\n",
        "drive.mount('/content/drive')"
      ],
      "id": "PMIfQZFub6T9"
    },
    {
      "cell_type": "code",
      "execution_count": null,
      "metadata": {
        "id": "pTgKzl4FcH0w"
      },
      "outputs": [],
      "source": [
        "import sys    \n",
        "path_to_module = '/content/drive/MyDrive/dataset/'\n",
        "sys.path.append(path_to_module)"
      ],
      "id": "pTgKzl4FcH0w"
    },
    {
      "cell_type": "markdown",
      "metadata": {
        "id": "1a784db0"
      },
      "source": [
        "### Affichage avec draw / web_visualizer (dans Jupyter Notebook)\n",
        "- **web_visualizer ou draw** </br>\n",
        "    o3d.web_visualizer.draw([pcd])</br>\n",
        "    ou avec draw</br>\n",
        "    draw([pcd])</br>\n",
        "- **!ATTENTION! JVisualizer, c'est pour les cameras, NC** </br>\n",
        "http://www.open3d.org/docs/latest/tutorial/Basic/jupyter.html\n",
        "- **o3d.visualization.webrtc_server.enable_webrtc()** Ne fonctionne pas, manque le code complet</br>\n",
        "http://www.open3d.org/docs/latest/tutorial/visualization/web_visualizer.html"
      ],
      "id": "1a784db0"
    },
    {
      "cell_type": "code",
      "execution_count": null,
      "metadata": {
        "id": "a9e59e34",
        "scrolled": false
      },
      "outputs": [],
      "source": [
        "import open3d as o3d\n",
        "from open3d.web_visualizer import draw\n",
        "cube_red = o3d.geometry.TriangleMesh.create_box(1,2,4)\n",
        "cube_red.compute_vertex_normals()\n",
        "#cube_red.paint_uniform_color((1.0, 0.0, 0.0))\n",
        "o3d.web_visualizer.draw(cube_red)"
      ],
      "id": "a9e59e34"
    },
    {
      "cell_type": "code",
      "execution_count": null,
      "metadata": {
        "id": "c23e0f64"
      },
      "outputs": [],
      "source": [
        "import open3d as o3d\n",
        "\n",
        "if __name__ == \"__main__\":\n",
        "    print(\"Load a ply point cloud, print it, and render it\")\n",
        "    sample_ply_data = o3d.data.PLYPointCloud()\n",
        "    pcd = o3d.io.read_point_cloud(sample_ply_data.path)\n",
        "    # Flip it, otherwise the pointcloud will be upside down.\n",
        "    pcd.transform([[1, 0, 0, 0], [0, -1, 0, 0], [0, 0, -1, 0], [0, 0, 0, 1]])\n",
        "    print(pcd)\n",
        "    #o3d.visualization.draw([pcd])\n",
        "\n",
        "    print(\"Downsample the point cloud with a voxel of 0.05\")\n",
        "    downpcd = pcd.voxel_down_sample(voxel_size=0.05)\n",
        "    print(downpcd)\n",
        "    #o3d.visualization.draw([downpcd])\n",
        "    o3d.web_visualizer.draw([pcd])"
      ],
      "id": "c23e0f64"
    },
    {
      "cell_type": "markdown",
      "metadata": {
        "id": "7e05abe2"
      },
      "source": [
        "### Clustering d'Open3d : \n",
        "Open3D-master\\examples\\python\\geometry\\point_cloud_dbscan_clustering.py"
      ],
      "id": "7e05abe2"
    },
    {
      "cell_type": "code",
      "execution_count": null,
      "metadata": {
        "colab": {
          "referenced_widgets": [
            "328fb5bbc6314dd5b78ce0fe5d9e6376"
          ]
        },
        "id": "50c20d04",
        "outputId": "23a23c19-e1b5-4043-987c-ab912ecbf065",
        "scrolled": false
      },
      "outputs": [
        {
          "name": "stdout",
          "output_type": "stream",
          "text": [
            "pcd= PointCloud with 196133 points.\n",
            "point cloud has 10 clusters\n",
            "pcd= PointCloud with 196133 points.\n"
          ]
        },
        {
          "data": {
            "application/vnd.jupyter.widget-view+json": {
              "model_id": "328fb5bbc6314dd5b78ce0fe5d9e6376",
              "version_major": 2,
              "version_minor": 0
            },
            "text/plain": [
              "WebVisualizer(window_uid='window_7')"
            ]
          },
          "metadata": {},
          "output_type": "display_data"
        }
      ],
      "source": [
        "import open3d as o3d\n",
        "import numpy as np\n",
        "import matplotlib.pyplot as plt\n",
        "\n",
        "if __name__ == \"__main__\":\n",
        "    sample_ply_data = o3d.data.PLYPointCloud()\n",
        "    pcd = o3d.io.read_point_cloud(sample_ply_data.path)\n",
        "    # Flip it, otherwise the pointcloud will be upside down.\n",
        "    print(\"pcd=\",pcd)\n",
        "    pcd.transform([[1, 0, 0, 0], [0, -1, 0, 0], [0, 0, -1, 0], [0, 0, 0, 1]])\n",
        "\n",
        "    with o3d.utility.VerbosityContextManager(\n",
        "            o3d.utility.VerbosityLevel.Debug) as cm:\n",
        "        labels = np.array(\n",
        "            pcd.cluster_dbscan(eps=0.02, min_points=10, print_progress=True))\n",
        "\n",
        "    max_label = labels.max()\n",
        "    print(f\"point cloud has {max_label + 1} clusters\")\n",
        "    colors = plt.get_cmap(\"tab20\")(labels / (max_label if max_label > 0 else 1))\n",
        "    colors[labels < 0] = 0\n",
        "    pcd.colors = o3d.utility.Vector3dVector(colors[:, :3])\n",
        "    #o3d.visualization.draw([pcd])\n",
        "    #draw([pcd]) #sol 1 \n",
        "    o3d.web_visualizer.draw([pcd])"
      ],
      "id": "50c20d04"
    },
    {
      "cell_type": "code",
      "execution_count": null,
      "metadata": {
        "colab": {
          "referenced_widgets": [
            "6200e95e81294985838aa81d362399d9"
          ]
        },
        "id": "c7cf9ad9",
        "outputId": "b58db712-f078-4744-9fc7-6ca10b0160d9",
        "scrolled": true
      },
      "outputs": [
        {
          "name": "stdout",
          "output_type": "stream",
          "text": [
            "Load a ply point cloud, print it, and render it\n",
            "PointCloud with 196133 points.\n",
            "Downsample the point cloud with a voxel of 0.05\n",
            "PointCloud with 4838 points.\n"
          ]
        },
        {
          "data": {
            "application/vnd.jupyter.widget-view+json": {
              "model_id": "6200e95e81294985838aa81d362399d9",
              "version_major": 2,
              "version_minor": 0
            },
            "text/plain": [
              "WebVisualizer(window_uid='window_8')"
            ]
          },
          "metadata": {},
          "output_type": "display_data"
        }
      ],
      "source": [
        "import open3d as o3d\n",
        "\n",
        "if __name__ == \"__main__\":\n",
        "    print(\"Load a ply point cloud, print it, and render it\")\n",
        "    sample_ply_data = o3d.data.PLYPointCloud()\n",
        "    pcd = o3d.io.read_point_cloud(sample_ply_data.path)\n",
        "    # Flip it, otherwise the pointcloud will be upside down.\n",
        "    pcd.transform([[1, 0, 0, 0], [0, -1, 0, 0], [0, 0, -1, 0], [0, 0, 0, 1]])\n",
        "    print(pcd)\n",
        "    #o3d.visualization.draw([pcd])\n",
        "\n",
        "    print(\"Downsample the point cloud with a voxel of 0.05\")\n",
        "    downpcd = pcd.voxel_down_sample(voxel_size=0.05)\n",
        "    print(downpcd)\n",
        "    #o3d.visualization.draw([downpcd])\n",
        "    o3d.web_visualizer.draw([pcd])\n"
      ],
      "id": "c7cf9ad9"
    },
    {
      "cell_type": "markdown",
      "metadata": {
        "id": "0f271e58"
      },
      "source": [
        "### Voxel grid point could : \n",
        "Open3D-master\\examples\\python\\geometry\\voxel_grid_from_point_cloud.py"
      ],
      "id": "0f271e58"
    },
    {
      "cell_type": "code",
      "execution_count": null,
      "metadata": {
        "colab": {
          "referenced_widgets": [
            "c8590ded9b2f4993a2489cf5455008cb",
            "dbb41dbe76a54e23b91f96f62e9dd5b6",
            "352700d37e7a46b5ba1dbde76de479b2",
            "4dbf4e53b5be4b769fdd96ae811098e2"
          ]
        },
        "id": "6b7cb41d",
        "outputId": "dd65ec1d-df15-4b5b-b050-8bcc5f8b702d",
        "scrolled": false
      },
      "outputs": [
        {
          "name": "stdout",
          "output_type": "stream",
          "text": [
            "pcd.colors= PointCloud with 2000 points.\n"
          ]
        },
        {
          "data": {
            "application/vnd.jupyter.widget-view+json": {
              "model_id": "c8590ded9b2f4993a2489cf5455008cb",
              "version_major": 2,
              "version_minor": 0
            },
            "text/plain": [
              "WebVisualizer(window_uid='window_13')"
            ]
          },
          "metadata": {},
          "output_type": "display_data"
        },
        {
          "name": "stdout",
          "output_type": "stream",
          "text": [
            "pcd.colors= PointCloud with 2000 points.\n"
          ]
        },
        {
          "data": {
            "application/vnd.jupyter.widget-view+json": {
              "model_id": "dbb41dbe76a54e23b91f96f62e9dd5b6",
              "version_major": 2,
              "version_minor": 0
            },
            "text/plain": [
              "WebVisualizer(window_uid='window_14')"
            ]
          },
          "metadata": {},
          "output_type": "display_data"
        },
        {
          "name": "stdout",
          "output_type": "stream",
          "text": [
            "pcd.colors= PointCloud with 2000 points.\n",
            "Displaying input point cloud ...\n"
          ]
        },
        {
          "data": {
            "application/vnd.jupyter.widget-view+json": {
              "model_id": "352700d37e7a46b5ba1dbde76de479b2",
              "version_major": 2,
              "version_minor": 0
            },
            "text/plain": [
              "WebVisualizer(window_uid='window_15')"
            ]
          },
          "metadata": {},
          "output_type": "display_data"
        },
        {
          "name": "stdout",
          "output_type": "stream",
          "text": [
            "Displaying voxel grid ...\n"
          ]
        },
        {
          "data": {
            "application/vnd.jupyter.widget-view+json": {
              "model_id": "4dbf4e53b5be4b769fdd96ae811098e2",
              "version_major": 2,
              "version_minor": 0
            },
            "text/plain": [
              "WebVisualizer(window_uid='window_16')"
            ]
          },
          "metadata": {},
          "output_type": "display_data"
        }
      ],
      "source": [
        "import open3d as o3d\n",
        "import numpy as np\n",
        "\n",
        "if __name__ == \"__main__\":\n",
        "\n",
        "    N = 2000\n",
        "    armadillo_data = o3d.data.ArmadilloMesh()\n",
        "    pcd = o3d.io.read_triangle_mesh(\n",
        "        armadillo_data.path).sample_points_poisson_disk(N)\n",
        "    print(\"pcd.colors=\",pcd)\n",
        "    o3d.web_visualizer.draw([pcd])\n",
        "\n",
        "    # Fit to unit cube.\n",
        "    pcd.scale(1 / np.max(pcd.get_max_bound() - pcd.get_min_bound()),\n",
        "              center=pcd.get_center())\n",
        "    print(\"pcd.colors=\",pcd)\n",
        "    o3d.web_visualizer.draw([pcd])\n",
        "\n",
        "    pcd.colors = o3d.utility.Vector3dVector(np.random.uniform(0, 1,\n",
        "                                                              size=(N, 3)))\n",
        "    print(\"pcd.colors=\",pcd)\n",
        "    print('Displaying input point cloud ...')\n",
        "    #o3d.visualization.draw([pcd])\n",
        "    o3d.web_visualizer.draw([pcd])\n",
        "    \n",
        "    print('Displaying voxel grid ...')\n",
        "    voxel_grid = o3d.geometry.VoxelGrid.create_from_point_cloud(pcd,\n",
        "                                                                voxel_size=0.05)\n",
        "    #o3d.visualization.draw([voxel_grid])\n",
        "    o3d.web_visualizer.draw([voxel_grid])"
      ],
      "id": "6b7cb41d"
    },
    {
      "cell_type": "code",
      "execution_count": null,
      "metadata": {
        "colab": {
          "referenced_widgets": [
            "dc699a1cebf34678ac3fe1a90d9dc5f8"
          ]
        },
        "id": "8900ffe6",
        "outputId": "9035ac98-d996-4859-be61-e92edb5a5432",
        "scrolled": true
      },
      "outputs": [
        {
          "name": "stdout",
          "output_type": "stream",
          "text": [
            "Load a ply point cloud, print it, and render it\n",
            "PointCloud with 196133 points.\n",
            "Downsample the point cloud with a voxel of 0.05\n",
            "Displaying input point cloud ...\n",
            "Displaying voxel grid ...\n"
          ]
        },
        {
          "data": {
            "application/vnd.jupyter.widget-view+json": {
              "model_id": "dc699a1cebf34678ac3fe1a90d9dc5f8",
              "version_major": 2,
              "version_minor": 0
            },
            "text/plain": [
              "WebVisualizer(window_uid='window_17')"
            ]
          },
          "metadata": {},
          "output_type": "display_data"
        }
      ],
      "source": [
        "import open3d as o3d\n",
        "import numpy as np\n",
        "import open3d as o3d\n",
        "\n",
        "N = 2000\n",
        "\n",
        "if __name__ == \"__main__\":\n",
        "    print(\"Load a ply point cloud, print it, and render it\")\n",
        "    sample_ply_data = o3d.data.PLYPointCloud()\n",
        "    pcd = o3d.io.read_point_cloud(sample_ply_data.path)\n",
        "    # Flip it, otherwise the pointcloud will be upside down.\n",
        "    pcd.transform([[1, 0, 0, 0], [0, -1, 0, 0], [0, 0, -1, 0], [0, 0, 0, 1]])\n",
        "    print(pcd)\n",
        "    #o3d.visualization.draw([pcd])\n",
        "    print(\"Downsample the point cloud with a voxel of 0.05\")\n",
        "    downpcd = pcd.voxel_down_sample(voxel_size=0.05)\n",
        "    #o3d.visualization.draw([downpcd])\n",
        "\n",
        "    #pcd.scale(1 / np.max(pcd.get_max_bound() - pcd.get_min_bound()),\n",
        "     #         center=pcd.get_center())\n",
        "    #pcd.colors = o3d.utility.Vector3dVector(np.random.uniform(0, 1,\n",
        "     #                                                         size=(N, 3)))\n",
        "    print('Displaying input point cloud ...')\n",
        "    #o3d.visualization.draw([pcd])\n",
        "    #o3d.web_visualizer.draw([pcd])\n",
        "    \n",
        "    print('Displaying voxel grid ...')\n",
        "    voxel_grid = o3d.geometry.VoxelGrid.create_from_point_cloud(downpcd,\n",
        "                                                                voxel_size=0.05)\n",
        "    #o3d.visualization.draw([voxel_grid])\n",
        "    o3d.web_visualizer.draw([voxel_grid])"
      ],
      "id": "8900ffe6"
    },
    {
      "cell_type": "markdown",
      "metadata": {
        "id": "959603a6"
      },
      "source": [
        "### Segmentation d'Open3d : \n",
        "Open3D-master\\examples\\python\\geometry\\point_cloud_plane_segmentation.py"
      ],
      "id": "959603a6"
    },
    {
      "cell_type": "code",
      "execution_count": null,
      "metadata": {
        "colab": {
          "referenced_widgets": [
            "9c37a984eef14261868eaeca65722e6c"
          ]
        },
        "id": "ab10585b",
        "outputId": "26d361c9-6954-4d68-f47e-763125c651e0"
      },
      "outputs": [
        {
          "name": "stdout",
          "output_type": "stream",
          "text": [
            "Plane equation: 0.94x + 0.20y + -0.29z + -2.77 = 0\n",
            "Displaying pointcloud with planar points in red ...\n"
          ]
        },
        {
          "data": {
            "application/vnd.jupyter.widget-view+json": {
              "model_id": "9c37a984eef14261868eaeca65722e6c",
              "version_major": 2,
              "version_minor": 0
            },
            "text/plain": [
              "WebVisualizer(window_uid='window_1')"
            ]
          },
          "metadata": {},
          "output_type": "display_data"
        }
      ],
      "source": [
        "import open3d as o3d\n",
        "\n",
        "if __name__ == \"__main__\":\n",
        "\n",
        "    sample_pcd_data = o3d.data.EaglePointCloud()\n",
        "    pcd = o3d.io.read_point_cloud(sample_pcd_data.path)\n",
        "    # Flip it, otherwise the pointcloud will be upside down.\n",
        "    pcd.transform([[1, 0, 0, 0], [0, -1, 0, 0], [0, 0, -1, 0], [0, 0, 0, 1]])\n",
        "    plane_model, inliers = pcd.segment_plane(distance_threshold=0.01,\n",
        "                                             ransac_n=3,\n",
        "                                             num_iterations=1000)\n",
        "    [a, b, c, d] = plane_model\n",
        "    print(f\"Plane equation: {a:.2f}x + {b:.2f}y + {c:.2f}z + {d:.2f} = 0\")\n",
        "    print(\"Displaying pointcloud with planar points in red ...\")\n",
        "    inlier_cloud = pcd.select_by_index(inliers)\n",
        "    inlier_cloud.paint_uniform_color([1.0, 0, 0])\n",
        "    outlier_cloud = pcd.select_by_index(inliers, invert=True)\n",
        "    #o3d.visualization.draw([inlier_cloud, outlier_cloud])\n",
        "    o3d.web_visualizer.draw([inlier_cloud, outlier_cloud])    "
      ],
      "id": "ab10585b"
    },
    {
      "cell_type": "markdown",
      "metadata": {
        "id": "8c1955b5"
      },
      "source": [
        "# Affichage de dataset "
      ],
      "id": "8c1955b5"
    },
    {
      "cell_type": "code",
      "execution_count": null,
      "metadata": {
        "id": "3962340f",
        "outputId": "531cb073-837b-40c4-b8cb-87118cea0c33"
      },
      "outputs": [
        {
          "name": "stdout",
          "output_type": "stream",
          "text": [
            "Jupyter environment detected. Enabling Open3D WebVisualizer.\n",
            "[Open3D INFO] WebRTC GUI backend enabled.\n",
            "[Open3D INFO] WebRTCWindowSystem: HTTP handshake server disabled.\n",
            "[Open3D INFO] Resetting default logger to print to terminal.\n"
          ]
        }
      ],
      "source": [
        "import open3d as o3d\n",
        "import numpy as np\n",
        "import matplotlib.pyplot as plt\n",
        "from open3d.web_visualizer import draw"
      ],
      "id": "3962340f"
    },
    {
      "cell_type": "code",
      "execution_count": null,
      "metadata": {
        "id": "1178c16c"
      },
      "outputs": [],
      "source": [
        "path1 = \"./Data/beam_1.txt\"\n",
        "path2 = \"./Data/auditorium_1.txt\"\n",
        "path_df3_xyz = \"C:/Users/Utilisateur/Documents/1_BDD_ISEN/PointCleanNet_data/pointCleanNetDataset/\""
      ],
      "id": "1178c16c"
    },
    {
      "cell_type": "code",
      "execution_count": null,
      "metadata": {
        "colab": {
          "referenced_widgets": [
            "d2ec0f404f934cfb948c09c668d2d54a"
          ]
        },
        "id": "6690b67a",
        "outputId": "14a5d38b-4617-4b0f-e7ef-41f8f28ab98f",
        "scrolled": true
      },
      "outputs": [
        {
          "data": {
            "application/vnd.jupyter.widget-view+json": {
              "model_id": "d2ec0f404f934cfb948c09c668d2d54a",
              "version_major": 2,
              "version_minor": 0
            },
            "text/plain": [
              "WebVisualizer(window_uid='window_19')"
            ]
          },
          "metadata": {},
          "output_type": "display_data"
        }
      ],
      "source": [
        "#sample_ply_data = o3d.data.PLYPointCloud()\n",
        "pcd = o3d.io.read_point_cloud(path1, format='xyzrgb')\n",
        "#o3d.web_visualizer.draw([pcd])\n",
        "# ou avec draw\n",
        "draw([pcd])"
      ],
      "id": "6690b67a"
    },
    {
      "cell_type": "markdown",
      "metadata": {
        "id": "74c20ba6"
      },
      "source": [
        " - **pour importer ses fichier**</br>\n",
        " pcd = o3d.io.read_point_cloud(path, format='xyzrgb')</br>\n",
        " http://www.open3d.org/docs/latest/tutorial/Basic/file_io.html"
      ],
      "id": "74c20ba6"
    },
    {
      "cell_type": "markdown",
      "metadata": {
        "id": "9e6d665d"
      },
      "source": [
        "### Affichage avec Tensorbord"
      ],
      "id": "9e6d665d"
    },
    {
      "cell_type": "markdown",
      "metadata": {
        "id": "b094158d"
      },
      "source": [
        "conda install -c conda-forge --name py38 tensorboard -y </br>\n",
        "*c:\\Users\\Utilisateur\\.vscode\\extensions\\ms-python.python-2022.10.1\\pythonFiles\\shell_exec.py conda install -c conda-forge --name py38 tensorboard -y C:/Users/UTILIS~1/AppData/Local/Temp/tmp-8356ZtmzbbQwiaaJ.log </br>\n",
        "*Executing command in shell >> conda install -c conda-forge --name py38 tensorboard -y\n",
        "\n",
        "**=> Faut cuda !!**"
      ],
      "id": "b094158d"
    },
    {
      "cell_type": "code",
      "execution_count": null,
      "metadata": {
        "colab": {
          "background_save": true,
          "base_uri": "https://localhost:8080/"
        },
        "id": "w9JkFmgM-BLF",
        "outputId": "fe7f57e5-271a-4606-8cdb-b605b9dcb5d5"
      },
      "outputs": [
        {
          "name": "stdout",
          "output_type": "stream",
          "text": [
            "\u001b[K     |████████████████████████████████| 408.6 MB 22 kB/s \n",
            "\u001b[K     |████████████████████████████████| 596 kB 50.4 MB/s \n",
            "\u001b[K     |████████████████████████████████| 8.8 MB 43.0 MB/s \n",
            "\u001b[K     |████████████████████████████████| 3.1 MB 49.5 MB/s \n",
            "\u001b[K     |████████████████████████████████| 1.1 MB 51.6 MB/s \n",
            "\u001b[K     |████████████████████████████████| 54 kB 2.2 MB/s \n",
            "\u001b[K     |████████████████████████████████| 9.7 MB 39.8 MB/s \n",
            "\u001b[K     |████████████████████████████████| 423 kB 42.3 MB/s \n",
            "\u001b[K     |████████████████████████████████| 344 kB 63.8 MB/s \n",
            "\u001b[K     |████████████████████████████████| 1.6 MB 39.1 MB/s \n",
            "\u001b[K     |████████████████████████████████| 1.2 MB 52.6 MB/s \n",
            "\u001b[K     |████████████████████████████████| 563 kB 54.5 MB/s \n",
            "\u001b[K     |████████████████████████████████| 80 kB 7.0 MB/s \n",
            "\u001b[K     |████████████████████████████████| 54 kB 2.3 MB/s \n",
            "\u001b[K     |████████████████████████████████| 59 kB 6.2 MB/s \n",
            "\u001b[K     |████████████████████████████████| 133 kB 37.1 MB/s \n",
            "\u001b[K     |████████████████████████████████| 71 kB 169 kB/s \n",
            "\u001b[K     |████████████████████████████████| 106 kB 54.9 MB/s \n",
            "\u001b[K     |████████████████████████████████| 86 kB 4.2 MB/s \n",
            "\u001b[31mERROR: pip's dependency resolver does not currently take into account all the packages that are installed. This behaviour is the source of the following dependency conflicts.\n",
            "google-colab 1.0.0 requires tornado~=5.1.0, but you have tornado 6.2 which is incompatible.\n",
            "flask 1.1.4 requires Jinja2<3.0,>=2.10.1, but you have jinja2 3.1.2 which is incompatible.\u001b[0m\n",
            "\u001b[?25h"
          ]
        }
      ],
      "source": [
        "!pip install -U -q open3d"
      ],
      "id": "w9JkFmgM-BLF"
    },
    {
      "cell_type": "code",
      "execution_count": null,
      "metadata": {
        "colab": {
          "base_uri": "https://localhost:8080/"
        },
        "id": "OPHLT9l0-BLI",
        "outputId": "cf990634-ee81-40a8-8d11-529fbead9645"
      },
      "outputs": [
        {
          "name": "stdout",
          "output_type": "stream",
          "text": [
            "0.15.2\n"
          ]
        }
      ],
      "source": [
        "!python -c \"import open3d as o3d; print(o3d.__version__)\""
      ],
      "id": "OPHLT9l0-BLI"
    },
    {
      "cell_type": "code",
      "execution_count": null,
      "metadata": {
        "colab": {
          "base_uri": "https://localhost:8080/"
        },
        "id": "8q3j8og4-BLK",
        "outputId": "45fc000b-c381-4a06-e4fa-393bdc5e3c55"
      },
      "outputs": [
        {
          "name": "stdout",
          "output_type": "stream",
          "text": [
            "Drive already mounted at /content/drive; to attempt to forcibly remount, call drive.mount(\"/content/drive\", force_remount=True).\n"
          ]
        }
      ],
      "source": [
        "from google.colab import drive\n",
        "drive.mount('/content/drive')"
      ],
      "id": "8q3j8og4-BLK"
    },
    {
      "cell_type": "code",
      "execution_count": null,
      "metadata": {
        "id": "ph451aGP-BLM"
      },
      "outputs": [],
      "source": [
        "import sys    \n",
        "path_to_module = '/content/drive/MyDrive/dataset/'\n",
        "sys.path.append(path_to_module)"
      ],
      "id": "ph451aGP-BLM"
    },
    {
      "cell_type": "code",
      "execution_count": null,
      "metadata": {
        "id": "5TvJlruz92sh"
      },
      "outputs": [],
      "source": [
        "# Select you GPU\n",
        "I_GPU = 0\n",
        "import torch\n",
        "torch.cuda.set_device(I_GPU)"
      ],
      "id": "5TvJlruz92sh"
    },
    {
      "cell_type": "code",
      "execution_count": null,
      "metadata": {
        "id": "Gd_coD57-W-9"
      },
      "outputs": [],
      "source": [],
      "id": "Gd_coD57-W-9"
    },
    {
      "cell_type": "code",
      "execution_count": null,
      "metadata": {
        "id": "0f508991"
      },
      "outputs": [],
      "source": [
        "import open3d as o3d\n",
        "# Monkey-patch torch.utils.tensorboard.SummaryWriter"
      ],
      "id": "0f508991"
    },
    {
      "cell_type": "code",
      "execution_count": null,
      "metadata": {
        "colab": {
          "base_uri": "https://localhost:8080/",
          "height": 363
        },
        "id": "727dc34e",
        "outputId": "498c209c-e6f4-4e68-87ba-fc6d3f843e46"
      },
      "outputs": [
        {
          "ename": "ImportError",
          "evalue": "ignored",
          "output_type": "error",
          "traceback": [
            "\u001b[0;31m---------------------------------------------------------------------------\u001b[0m",
            "\u001b[0;31mImportError\u001b[0m                               Traceback (most recent call last)",
            "\u001b[0;32m<ipython-input-2-e308df51d543>\u001b[0m in \u001b[0;36m<module>\u001b[0;34m\u001b[0m\n\u001b[1;32m      4\u001b[0m \u001b[0;31m# Utility function to convert Open3D geometry to a dictionary format\u001b[0m\u001b[0;34m\u001b[0m\u001b[0;34m\u001b[0m\u001b[0;34m\u001b[0m\u001b[0m\n\u001b[1;32m      5\u001b[0m \u001b[0;32mfrom\u001b[0m \u001b[0mopen3d\u001b[0m\u001b[0;34m.\u001b[0m\u001b[0mvisualization\u001b[0m\u001b[0;34m.\u001b[0m\u001b[0mtensorboard_plugin\u001b[0m\u001b[0;34m.\u001b[0m\u001b[0mutil\u001b[0m \u001b[0;32mimport\u001b[0m \u001b[0mto_dict_batch\u001b[0m\u001b[0;34m\u001b[0m\u001b[0;34m\u001b[0m\u001b[0m\n\u001b[0;32m----> 6\u001b[0;31m \u001b[0;32mfrom\u001b[0m \u001b[0mtorch\u001b[0m\u001b[0;34m.\u001b[0m\u001b[0mutils\u001b[0m\u001b[0;34m.\u001b[0m\u001b[0mtensorboard\u001b[0m \u001b[0;32mimport\u001b[0m \u001b[0mSummaryWrite\u001b[0m\u001b[0;34m\u001b[0m\u001b[0;34m\u001b[0m\u001b[0m\n\u001b[0m",
            "\u001b[0;31mImportError\u001b[0m: cannot import name 'SummaryWrite' from 'torch.utils.tensorboard' (/usr/local/lib/python3.7/dist-packages/torch/utils/tensorboard/__init__.py)",
            "",
            "\u001b[0;31m---------------------------------------------------------------------------\u001b[0;32m\nNOTE: If your import is failing due to a missing package, you can\nmanually install dependencies using either !pip or !apt.\n\nTo view examples of installing some common dependencies, click the\n\"Open Examples\" button below.\n\u001b[0;31m---------------------------------------------------------------------------\u001b[0m\n"
          ]
        }
      ],
      "source": [
        "import open3d as o3d\n",
        "# Monkey-patch torch.utils.tensorboard.SummaryWriter\n",
        "from open3d.visualization.tensorboard_plugin import summary\n",
        "# Utility function to convert Open3D geometry to a dictionary format\n",
        "from open3d.visualization.tensorboard_plugin.util import to_dict_batch\n",
        "from torch.utils.tensorboard import SummaryWrite"
      ],
      "id": "727dc34e"
    },
    {
      "cell_type": "code",
      "execution_count": null,
      "metadata": {
        "id": "b1a019e5"
      },
      "outputs": [],
      "source": [
        "import open3d as o3d\n",
        "# Monkey-patch torch.utils.tensorboard.SummaryWriter\n",
        "from open3d.visualization.tensorboard_plugin import summary\n",
        "# Utility function to convert Open3D geometry to a dictionary format\n",
        "from open3d.visualization.tensorboard_plugin.util import to_dict_batch\n",
        "from torch.utils.tensorboard import SummaryWriter\n",
        "\n",
        "cube = o3d.geometry.TriangleMesh.create_box(1, 2, 4)\n",
        "cube.compute_vertex_normals()\n",
        "cylinder = o3d.geometry.TriangleMesh.create_cylinder(radius=1.0,\n",
        "                                                     height=2.0,\n",
        "                                                     resolution=20,\n",
        "                                                     split=4)\n",
        "cylinder.compute_vertex_normals()\n",
        "colors = [(1.0, 0.0, 0.0), (0.0, 1.0, 0.0), (0.0, 0.0, 1.0)]"
      ],
      "id": "b1a019e5"
    },
    {
      "cell_type": "code",
      "execution_count": null,
      "metadata": {
        "id": "c54b059f"
      },
      "outputs": [],
      "source": [
        "#pip install --upgrade h5py\n",
        "import open3d as o3d\n",
        "from open3d.visualization.tensorboard_plugin import summary\n",
        "# Utility function to convert Open3D geometry to a dictionary format\n",
        "from open3d.visualization.tensorboard_plugin.util import to_dict_batch\n",
        "import tensorflow as tf\n",
        "# ... geometry creation code as above ...\n",
        "logdir = \"demo_logs/tf/small_scale\"\n",
        "writer = tf.summary.create_file_writer(logdir)\n",
        "with writer.as_default():\n",
        "    for step in range(3):\n",
        "        cube.paint_uniform_color(colors[step])\n",
        "        summary.add_3d('cube', to_dict_batch([cube]), step=step, logdir=logdir)\n",
        "        cylinder.paint_uniform_color(colors[step])\n",
        "        summary.add_3d('cylinder', to_dict_batch([cylinder]), step=step,\n",
        "                       logdir=logdir)"
      ],
      "id": "c54b059f"
    },
    {
      "cell_type": "markdown",
      "metadata": {
        "id": "c470acf7"
      },
      "source": [
        "### Transformation \n",
        "**(translate, rotate, scaleet transform)**</br>\n",
        "http://www.open3d.org/docs/latest/tutorial/Basic/transformation.html"
      ],
      "id": "c470acf7"
    },
    {
      "cell_type": "code",
      "execution_count": null,
      "metadata": {
        "id": "70fe78f2",
        "outputId": "761630a7-20c4-4d31-daa2-27f297abddc7",
        "scrolled": true
      },
      "outputs": [
        {
          "name": "stdout",
          "output_type": "stream",
          "text": [
            "[[1. 0. 0. 0.]\n",
            " [0. 1. 0. 0.]\n",
            " [0. 0. 1. 0.]\n",
            " [0. 0. 0. 1.]]\n",
            "[[ 3.06161700e-17 -5.00000000e-01  8.66025404e-01  0.00000000e+00]\n",
            " [ 1.00000000e+00  6.12323400e-17  0.00000000e+00  0.00000000e+00]\n",
            " [-5.30287619e-17  8.66025404e-01  5.00000000e-01  0.00000000e+00]\n",
            " [ 0.00000000e+00  0.00000000e+00  0.00000000e+00  1.00000000e+00]]\n",
            "[[ 3.06161700e-17 -5.00000000e-01  8.66025404e-01  1.00000000e+00]\n",
            " [ 1.00000000e+00  6.12323400e-17  0.00000000e+00  1.30000000e+00]\n",
            " [-5.30287619e-17  8.66025404e-01  5.00000000e-01 -1.30000000e+00]\n",
            " [ 0.00000000e+00  0.00000000e+00  0.00000000e+00  1.00000000e+00]]\n"
          ]
        },
        {
          "data": {
            "application/vnd.jupyter.widget-view+json": {
              "model_id": "16e9e8f99b1c49ad9d1dd411f9b4da55",
              "version_major": 2,
              "version_minor": 0
            },
            "text/plain": [
              "WebVisualizer(window_uid='window_23')"
            ]
          },
          "metadata": {},
          "output_type": "display_data"
        }
      ],
      "source": [
        "import copy\n",
        "mesh = o3d.geometry.TriangleMesh.create_coordinate_frame()\n",
        "T = np.eye(4)\n",
        "print(T)\n",
        "T[:3, :3] = mesh.get_rotation_matrix_from_xyz((0, np.pi / 3, np.pi / 2))\n",
        "print(T)\n",
        "T[0, 3] = 1\n",
        "T[1, 3] = 1.3\n",
        "T[2, 3] = -1.3\n",
        "print(T)\n",
        "mesh_t = copy.deepcopy(mesh).transform(T)\n",
        "#o3d.visualization.draw_geometries([mesh, mesh_t])\n",
        "o3d.web_visualizer.draw([mesh, mesh_t])"
      ],
      "id": "70fe78f2"
    },
    {
      "cell_type": "markdown",
      "metadata": {
        "id": "19c171d0"
      },
      "source": [
        "### Clustering puis Segmentation avec un fichier \\*.txt (xyzrgb)"
      ],
      "id": "19c171d0"
    },
    {
      "cell_type": "code",
      "execution_count": null,
      "metadata": {
        "id": "fe5d4ac7",
        "outputId": "b565ac50-271a-444b-96a0-f103d7223426",
        "scrolled": true,
        "colab": {
          "referenced_widgets": [
            "2f4a581a0e8d40a2a98cda2b7e428d64"
          ]
        }
      },
      "outputs": [
        {
          "name": "stdout",
          "output_type": "stream",
          "text": [
            "point cloud has 38 clusters\n"
          ]
        },
        {
          "data": {
            "application/vnd.jupyter.widget-view+json": {
              "model_id": "2f4a581a0e8d40a2a98cda2b7e428d64",
              "version_major": 2,
              "version_minor": 0
            },
            "text/plain": [
              "WebVisualizer(window_uid='window_2')"
            ]
          },
          "metadata": {},
          "output_type": "display_data"
        }
      ],
      "source": [
        "path = \"C:/Users/Utilisateur/Documents/1_BDD_ISEN/S3DIS/hallway_1/hallway_1.txt\"\n",
        "\n",
        "if __name__ == \"__main__\":\n",
        "    sample_ply_data = o3d.data.PLYPointCloud()\n",
        "    pcd = o3d.io.read_point_cloud(path, format='xyzrgb')\n",
        "    #o3d.web_visualizer.draw([pcd])\n",
        "    # Flip it, otherwise the pointcloud will be upside down.\n",
        "    pcd.transform([[1, 0, 0, 0], [0, -1, 0, 0], [0, 0, -1, 0], [0, 0, 0, 1]])\n",
        "\n",
        "    with o3d.utility.VerbosityContextManager(\n",
        "            o3d.utility.VerbosityLevel.Debug) as cm:\n",
        "        labels = np.array(\n",
        "            pcd.cluster_dbscan(eps=0.02, min_points=10, print_progress=True))\n",
        "\n",
        "    max_label = labels.max()\n",
        "    print(f\"point cloud has {max_label + 1} clusters\")\n",
        "    colors = plt.get_cmap(\"tab20\")(labels / (max_label if max_label > 0 else 1))\n",
        "    colors[labels < 0] = 0\n",
        "    pcd.colors = o3d.utility.Vector3dVector(colors[:, :3])\n",
        "    #o3d.visualization.draw([pcd])\n",
        "    #draw([pcd]) #sol 1 \n",
        "    o3d.web_visualizer.draw([pcd])"
      ],
      "id": "fe5d4ac7"
    },
    {
      "cell_type": "code",
      "execution_count": null,
      "metadata": {
        "id": "b47baf05",
        "outputId": "aeb695b9-323e-457d-f440-ba28613c409c",
        "scrolled": true,
        "colab": {
          "referenced_widgets": [
            "395a96d76057483c93dd348d25523838"
          ]
        }
      },
      "outputs": [
        {
          "name": "stdout",
          "output_type": "stream",
          "text": [
            "Plane equation: -0.00x + -0.01y + 1.00z + 2.67 = 0\n",
            "Displaying pointcloud with planar points in red ...\n"
          ]
        },
        {
          "data": {
            "application/vnd.jupyter.widget-view+json": {
              "model_id": "395a96d76057483c93dd348d25523838",
              "version_major": 2,
              "version_minor": 0
            },
            "text/plain": [
              "WebVisualizer(window_uid='window_3')"
            ]
          },
          "metadata": {},
          "output_type": "display_data"
        }
      ],
      "source": [
        "path = \"C:/Users/Utilisateur/Documents/1_BDD_ISEN/S3DIS/hallway_1/hallway_1.txt\"\n",
        "\n",
        "if __name__ == \"__main__\":\n",
        "\n",
        "    #sample_pcd_data = o3d.data.EaglePointCloud()\n",
        "    #pcd = o3d.io.read_point_cloud(sample_pcd_data.path)\n",
        "    pcd = o3d.io.read_point_cloud(path, format='xyzrgb')\n",
        "    # Flip it, otherwise the pointcloud will be upside down.\n",
        "    pcd.transform([[1, 0, 0, 0], [0, -1, 0, 0], [0, 0, -1, 0], [0, 0, 0, 1]])\n",
        "    plane_model, inliers = pcd.segment_plane(distance_threshold=0.01,\n",
        "                                             ransac_n=3,\n",
        "                                             num_iterations=1000)\n",
        "    [a, b, c, d] = plane_model\n",
        "    print(f\"Plane equation: {a:.2f}x + {b:.2f}y + {c:.2f}z + {d:.2f} = 0\")\n",
        "    print(\"Displaying pointcloud with planar points in red ...\")\n",
        "    inlier_cloud = pcd.select_by_index(inliers)\n",
        "    inlier_cloud.paint_uniform_color([1.0, 0, 0])\n",
        "    outlier_cloud = pcd.select_by_index(inliers, invert=True)\n",
        "    #o3d.visualization.draw([inlier_cloud, outlier_cloud])\n",
        "    o3d.web_visualizer.draw([inlier_cloud, outlier_cloud])"
      ],
      "id": "b47baf05"
    }
  ],
  "metadata": {
    "accelerator": "GPU",
    "colab": {
      "provenance": [],
      "include_colab_link": true
    },
    "gpuClass": "standard",
    "kernelspec": {
      "display_name": "Python 3 (ipykernel)",
      "language": "python",
      "name": "python3"
    },
    "language_info": {
      "codemirror_mode": {
        "name": "ipython",
        "version": 3
      },
      "file_extension": ".py",
      "mimetype": "text/x-python",
      "name": "python",
      "nbconvert_exporter": "python",
      "pygments_lexer": "ipython3",
      "version": "3.8.13"
    }
  },
  "nbformat": 4,
  "nbformat_minor": 5
}